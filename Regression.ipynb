{
 "cells": [
  {
   "cell_type": "markdown",
   "metadata": {},
   "source": [
    "## Introduction \n",
    "\n",
    "The aim of today's lab is to find out how the next labs will be held and recap ML workflow.\n",
    "\n",
    "You're asked to predict final grades of students by their attendance, midterm and assignments scores. The data are real anonymized grades from one of some course, but also contain some fictional 'students'.  \n",
    "\n",
    "Evaluation metric for this competition is R^2."
   ]
  },
  {
   "cell_type": "markdown",
   "metadata": {},
   "source": [
    "## Task\n",
    "\n",
    "- Obtain data from competition \n",
    "- Create a Jupyter notebook which will produce a file for submission\n",
    "- Submit it to the competition"
   ]
  },
  {
   "cell_type": "markdown",
   "metadata": {},
   "source": [
    "### Data\n",
    "\n",
    "Data contains `train` and `test` splits. Your goal is to train any appropriate ML model on `train` split and run inference on `test` split."
   ]
  },
  {
   "cell_type": "code",
   "execution_count": 115,
   "metadata": {
    "_cell_guid": "b1076dfc-b9ad-4769-8c92-a6c4dae69d19",
    "_uuid": "8f2839f25d086af736a60e9eeb907d3b93b6e0e5",
    "execution": {
     "iopub.execute_input": "2024-09-03T19:18:55.983781Z",
     "iopub.status.busy": "2024-09-03T19:18:55.983105Z",
     "iopub.status.idle": "2024-09-03T19:18:55.990169Z",
     "shell.execute_reply": "2024-09-03T19:18:55.988843Z",
     "shell.execute_reply.started": "2024-09-03T19:18:55.983727Z"
    },
    "trusted": true
   },
   "outputs": [],
   "source": [
    "import pandas as pd\n",
    "import numpy as np\n",
    "import sklearn\n",
    "import warnings \n",
    "warnings.filterwarnings('ignore')"
   ]
  },
  {
   "cell_type": "code",
   "execution_count": 116,
   "metadata": {
    "execution": {
     "iopub.execute_input": "2024-09-03T19:18:55.995941Z",
     "iopub.status.busy": "2024-09-03T19:18:55.995356Z",
     "iopub.status.idle": "2024-09-03T19:18:56.047380Z",
     "shell.execute_reply": "2024-09-03T19:18:56.045449Z",
     "shell.execute_reply.started": "2024-09-03T19:18:55.995868Z"
    },
    "trusted": true
   },
   "outputs": [
    {
     "data": {
      "text/html": [
       "<div>\n",
       "<style scoped>\n",
       "    .dataframe tbody tr th:only-of-type {\n",
       "        vertical-align: middle;\n",
       "    }\n",
       "\n",
       "    .dataframe tbody tr th {\n",
       "        vertical-align: top;\n",
       "    }\n",
       "\n",
       "    .dataframe thead th {\n",
       "        text-align: right;\n",
       "    }\n",
       "</style>\n",
       "<table border=\"1\" class=\"dataframe\">\n",
       "  <thead>\n",
       "    <tr style=\"text-align: right;\">\n",
       "      <th></th>\n",
       "      <th>Course Grade (Real)</th>\n",
       "      <th>Assignment: In-class participation</th>\n",
       "      <th>Assignment: Assignment 1</th>\n",
       "      <th>Assignment: Midterm</th>\n",
       "    </tr>\n",
       "  </thead>\n",
       "  <tbody>\n",
       "    <tr>\n",
       "      <th>0</th>\n",
       "      <td>100.0</td>\n",
       "      <td>5.00</td>\n",
       "      <td>100.0</td>\n",
       "      <td>26.0</td>\n",
       "    </tr>\n",
       "    <tr>\n",
       "      <th>1</th>\n",
       "      <td>73.0</td>\n",
       "      <td>1.25</td>\n",
       "      <td>98.0</td>\n",
       "      <td>12.0</td>\n",
       "    </tr>\n",
       "    <tr>\n",
       "      <th>2</th>\n",
       "      <td>78.0</td>\n",
       "      <td>NaN</td>\n",
       "      <td>96.0</td>\n",
       "      <td>14.0</td>\n",
       "    </tr>\n",
       "    <tr>\n",
       "      <th>3</th>\n",
       "      <td>100.0</td>\n",
       "      <td>0.00</td>\n",
       "      <td>100.0</td>\n",
       "      <td>20.0</td>\n",
       "    </tr>\n",
       "    <tr>\n",
       "      <th>4</th>\n",
       "      <td>70.0</td>\n",
       "      <td>0.00</td>\n",
       "      <td>84.0</td>\n",
       "      <td>26.0</td>\n",
       "    </tr>\n",
       "    <tr>\n",
       "      <th>5</th>\n",
       "      <td>72.0</td>\n",
       "      <td>5.00</td>\n",
       "      <td>85.0</td>\n",
       "      <td>12.0</td>\n",
       "    </tr>\n",
       "    <tr>\n",
       "      <th>6</th>\n",
       "      <td>28.0</td>\n",
       "      <td>0.00</td>\n",
       "      <td>20.0</td>\n",
       "      <td>22.0</td>\n",
       "    </tr>\n",
       "    <tr>\n",
       "      <th>7</th>\n",
       "      <td>65.0</td>\n",
       "      <td>NaN</td>\n",
       "      <td>93.0</td>\n",
       "      <td>8.0</td>\n",
       "    </tr>\n",
       "    <tr>\n",
       "      <th>8</th>\n",
       "      <td>77.0</td>\n",
       "      <td>0.63</td>\n",
       "      <td>100.0</td>\n",
       "      <td>20.0</td>\n",
       "    </tr>\n",
       "    <tr>\n",
       "      <th>9</th>\n",
       "      <td>91.0</td>\n",
       "      <td>0.33</td>\n",
       "      <td>94.0</td>\n",
       "      <td>28.0</td>\n",
       "    </tr>\n",
       "    <tr>\n",
       "      <th>10</th>\n",
       "      <td>85.0</td>\n",
       "      <td>1.00</td>\n",
       "      <td>95.0</td>\n",
       "      <td>28.0</td>\n",
       "    </tr>\n",
       "    <tr>\n",
       "      <th>11</th>\n",
       "      <td>2.0</td>\n",
       "      <td>2.00</td>\n",
       "      <td>0.0</td>\n",
       "      <td>0.0</td>\n",
       "    </tr>\n",
       "    <tr>\n",
       "      <th>12</th>\n",
       "      <td>90.0</td>\n",
       "      <td>NaN</td>\n",
       "      <td>100.0</td>\n",
       "      <td>24.0</td>\n",
       "    </tr>\n",
       "    <tr>\n",
       "      <th>13</th>\n",
       "      <td>37.0</td>\n",
       "      <td>NaN</td>\n",
       "      <td>94.0</td>\n",
       "      <td>8.0</td>\n",
       "    </tr>\n",
       "    <tr>\n",
       "      <th>14</th>\n",
       "      <td>0.0</td>\n",
       "      <td>NaN</td>\n",
       "      <td>0.0</td>\n",
       "      <td>0.0</td>\n",
       "    </tr>\n",
       "    <tr>\n",
       "      <th>15</th>\n",
       "      <td>67.0</td>\n",
       "      <td>0.00</td>\n",
       "      <td>85.0</td>\n",
       "      <td>14.0</td>\n",
       "    </tr>\n",
       "    <tr>\n",
       "      <th>16</th>\n",
       "      <td>46.0</td>\n",
       "      <td>NaN</td>\n",
       "      <td>60.0</td>\n",
       "      <td>14.0</td>\n",
       "    </tr>\n",
       "    <tr>\n",
       "      <th>17</th>\n",
       "      <td>90.0</td>\n",
       "      <td>5.00</td>\n",
       "      <td>100.0</td>\n",
       "      <td>24.0</td>\n",
       "    </tr>\n",
       "    <tr>\n",
       "      <th>18</th>\n",
       "      <td>80.0</td>\n",
       "      <td>5.00</td>\n",
       "      <td>100.0</td>\n",
       "      <td>14.0</td>\n",
       "    </tr>\n",
       "    <tr>\n",
       "      <th>19</th>\n",
       "      <td>80.0</td>\n",
       "      <td>0.33</td>\n",
       "      <td>95.0</td>\n",
       "      <td>26.0</td>\n",
       "    </tr>\n",
       "  </tbody>\n",
       "</table>\n",
       "</div>"
      ],
      "text/plain": [
       "    Course Grade (Real)  Assignment: In-class participation  \\\n",
       "0                 100.0                                5.00   \n",
       "1                  73.0                                1.25   \n",
       "2                  78.0                                 NaN   \n",
       "3                 100.0                                0.00   \n",
       "4                  70.0                                0.00   \n",
       "5                  72.0                                5.00   \n",
       "6                  28.0                                0.00   \n",
       "7                  65.0                                 NaN   \n",
       "8                  77.0                                0.63   \n",
       "9                  91.0                                0.33   \n",
       "10                 85.0                                1.00   \n",
       "11                  2.0                                2.00   \n",
       "12                 90.0                                 NaN   \n",
       "13                 37.0                                 NaN   \n",
       "14                  0.0                                 NaN   \n",
       "15                 67.0                                0.00   \n",
       "16                 46.0                                 NaN   \n",
       "17                 90.0                                5.00   \n",
       "18                 80.0                                5.00   \n",
       "19                 80.0                                0.33   \n",
       "\n",
       "    Assignment: Assignment 1  Assignment: Midterm  \n",
       "0                      100.0                 26.0  \n",
       "1                       98.0                 12.0  \n",
       "2                       96.0                 14.0  \n",
       "3                      100.0                 20.0  \n",
       "4                       84.0                 26.0  \n",
       "5                       85.0                 12.0  \n",
       "6                       20.0                 22.0  \n",
       "7                       93.0                  8.0  \n",
       "8                      100.0                 20.0  \n",
       "9                       94.0                 28.0  \n",
       "10                      95.0                 28.0  \n",
       "11                       0.0                  0.0  \n",
       "12                     100.0                 24.0  \n",
       "13                      94.0                  8.0  \n",
       "14                       0.0                  0.0  \n",
       "15                      85.0                 14.0  \n",
       "16                      60.0                 14.0  \n",
       "17                     100.0                 24.0  \n",
       "18                     100.0                 14.0  \n",
       "19                      95.0                 26.0  "
      ]
     },
     "execution_count": 116,
     "metadata": {},
     "output_type": "execute_result"
    }
   ],
   "source": [
    "train_data = pd.read_csv('/kaggle/input/pmldl-week-1-test-regression-competition/train.csv',sep=';')\n",
    "train_data.replace('-', np.nan, inplace=True)\n",
    "train_data= train_data.astype('float64')\n",
    "train_data.head(20)"
   ]
  },
  {
   "cell_type": "code",
   "execution_count": 117,
   "metadata": {
    "execution": {
     "iopub.execute_input": "2024-09-03T19:18:56.050407Z",
     "iopub.status.busy": "2024-09-03T19:18:56.049940Z",
     "iopub.status.idle": "2024-09-03T19:18:56.059557Z",
     "shell.execute_reply": "2024-09-03T19:18:56.057856Z",
     "shell.execute_reply.started": "2024-09-03T19:18:56.050362Z"
    },
    "trusted": true
   },
   "outputs": [],
   "source": [
    "train_data = train_data.dropna(subset=[\"Assignment: Assignment 1\"]) "
   ]
  },
  {
   "cell_type": "code",
   "execution_count": 118,
   "metadata": {
    "execution": {
     "iopub.execute_input": "2024-09-03T19:18:56.062863Z",
     "iopub.status.busy": "2024-09-03T19:18:56.062271Z",
     "iopub.status.idle": "2024-09-03T19:18:56.082182Z",
     "shell.execute_reply": "2024-09-03T19:18:56.080742Z",
     "shell.execute_reply.started": "2024-09-03T19:18:56.062815Z"
    },
    "trusted": true
   },
   "outputs": [
    {
     "data": {
      "text/plain": [
       "0      5.00\n",
       "1      1.25\n",
       "2       NaN\n",
       "3      0.00\n",
       "4      0.00\n",
       "       ... \n",
       "239    3.00\n",
       "240    0.00\n",
       "241    0.42\n",
       "242    3.00\n",
       "243    5.00\n",
       "Name: Assignment: In-class participation, Length: 242, dtype: float64"
      ]
     },
     "execution_count": 118,
     "metadata": {},
     "output_type": "execute_result"
    }
   ],
   "source": [
    "train_data['Assignment: In-class participation']"
   ]
  },
  {
   "cell_type": "code",
   "execution_count": 119,
   "metadata": {
    "execution": {
     "iopub.execute_input": "2024-09-03T19:18:56.086773Z",
     "iopub.status.busy": "2024-09-03T19:18:56.085712Z",
     "iopub.status.idle": "2024-09-03T19:18:56.096993Z",
     "shell.execute_reply": "2024-09-03T19:18:56.095732Z",
     "shell.execute_reply.started": "2024-09-03T19:18:56.086709Z"
    },
    "trusted": true
   },
   "outputs": [
    {
     "data": {
      "text/plain": [
       "4"
      ]
     },
     "execution_count": 119,
     "metadata": {},
     "output_type": "execute_result"
    }
   ],
   "source": [
    "len(train_data.columns)"
   ]
  },
  {
   "cell_type": "code",
   "execution_count": 120,
   "metadata": {
    "execution": {
     "iopub.execute_input": "2024-09-03T19:18:56.099039Z",
     "iopub.status.busy": "2024-09-03T19:18:56.098429Z",
     "iopub.status.idle": "2024-09-03T19:18:56.118002Z",
     "shell.execute_reply": "2024-09-03T19:18:56.116786Z",
     "shell.execute_reply.started": "2024-09-03T19:18:56.098991Z"
    },
    "trusted": true
   },
   "outputs": [
    {
     "name": "stdout",
     "output_type": "stream",
     "text": [
      "<class 'pandas.core.frame.DataFrame'>\n",
      "Index: 242 entries, 0 to 243\n",
      "Data columns (total 4 columns):\n",
      " #   Column                              Non-Null Count  Dtype  \n",
      "---  ------                              --------------  -----  \n",
      " 0   Course Grade (Real)                 242 non-null    float64\n",
      " 1   Assignment: In-class participation  201 non-null    float64\n",
      " 2   Assignment: Assignment 1            242 non-null    float64\n",
      " 3   Assignment: Midterm                 242 non-null    float64\n",
      "dtypes: float64(4)\n",
      "memory usage: 9.5 KB\n"
     ]
    }
   ],
   "source": [
    "train_data.info()"
   ]
  },
  {
   "cell_type": "code",
   "execution_count": 121,
   "metadata": {
    "execution": {
     "iopub.execute_input": "2024-09-03T19:18:56.119964Z",
     "iopub.status.busy": "2024-09-03T19:18:56.119516Z",
     "iopub.status.idle": "2024-09-03T19:18:56.153005Z",
     "shell.execute_reply": "2024-09-03T19:18:56.151650Z",
     "shell.execute_reply.started": "2024-09-03T19:18:56.119922Z"
    },
    "trusted": true
   },
   "outputs": [
    {
     "data": {
      "text/html": [
       "<div>\n",
       "<style scoped>\n",
       "    .dataframe tbody tr th:only-of-type {\n",
       "        vertical-align: middle;\n",
       "    }\n",
       "\n",
       "    .dataframe tbody tr th {\n",
       "        vertical-align: top;\n",
       "    }\n",
       "\n",
       "    .dataframe thead th {\n",
       "        text-align: right;\n",
       "    }\n",
       "</style>\n",
       "<table border=\"1\" class=\"dataframe\">\n",
       "  <thead>\n",
       "    <tr style=\"text-align: right;\">\n",
       "      <th></th>\n",
       "      <th>Course Grade (Real)</th>\n",
       "      <th>Assignment: In-class participation</th>\n",
       "      <th>Assignment: Assignment 1</th>\n",
       "      <th>Assignment: Midterm</th>\n",
       "    </tr>\n",
       "  </thead>\n",
       "  <tbody>\n",
       "    <tr>\n",
       "      <th>count</th>\n",
       "      <td>242.000000</td>\n",
       "      <td>201.000000</td>\n",
       "      <td>242.000000</td>\n",
       "      <td>242.000000</td>\n",
       "    </tr>\n",
       "    <tr>\n",
       "      <th>mean</th>\n",
       "      <td>70.599174</td>\n",
       "      <td>1.951990</td>\n",
       "      <td>84.992107</td>\n",
       "      <td>18.495868</td>\n",
       "    </tr>\n",
       "    <tr>\n",
       "      <th>std</th>\n",
       "      <td>25.352954</td>\n",
       "      <td>1.836554</td>\n",
       "      <td>25.878099</td>\n",
       "      <td>7.057116</td>\n",
       "    </tr>\n",
       "    <tr>\n",
       "      <th>min</th>\n",
       "      <td>0.000000</td>\n",
       "      <td>0.000000</td>\n",
       "      <td>0.000000</td>\n",
       "      <td>0.000000</td>\n",
       "    </tr>\n",
       "    <tr>\n",
       "      <th>25%</th>\n",
       "      <td>59.000000</td>\n",
       "      <td>0.000000</td>\n",
       "      <td>83.625000</td>\n",
       "      <td>16.000000</td>\n",
       "    </tr>\n",
       "    <tr>\n",
       "      <th>50%</th>\n",
       "      <td>76.000000</td>\n",
       "      <td>1.250000</td>\n",
       "      <td>96.500000</td>\n",
       "      <td>20.000000</td>\n",
       "    </tr>\n",
       "    <tr>\n",
       "      <th>75%</th>\n",
       "      <td>88.750000</td>\n",
       "      <td>3.750000</td>\n",
       "      <td>100.000000</td>\n",
       "      <td>24.000000</td>\n",
       "    </tr>\n",
       "    <tr>\n",
       "      <th>max</th>\n",
       "      <td>100.000000</td>\n",
       "      <td>5.000000</td>\n",
       "      <td>100.000000</td>\n",
       "      <td>30.000000</td>\n",
       "    </tr>\n",
       "  </tbody>\n",
       "</table>\n",
       "</div>"
      ],
      "text/plain": [
       "       Course Grade (Real)  Assignment: In-class participation  \\\n",
       "count           242.000000                          201.000000   \n",
       "mean             70.599174                            1.951990   \n",
       "std              25.352954                            1.836554   \n",
       "min               0.000000                            0.000000   \n",
       "25%              59.000000                            0.000000   \n",
       "50%              76.000000                            1.250000   \n",
       "75%              88.750000                            3.750000   \n",
       "max             100.000000                            5.000000   \n",
       "\n",
       "       Assignment: Assignment 1  Assignment: Midterm  \n",
       "count                242.000000           242.000000  \n",
       "mean                  84.992107            18.495868  \n",
       "std                   25.878099             7.057116  \n",
       "min                    0.000000             0.000000  \n",
       "25%                   83.625000            16.000000  \n",
       "50%                   96.500000            20.000000  \n",
       "75%                  100.000000            24.000000  \n",
       "max                  100.000000            30.000000  "
      ]
     },
     "execution_count": 121,
     "metadata": {},
     "output_type": "execute_result"
    }
   ],
   "source": [
    "train_data.describe(include = 'all')"
   ]
  },
  {
   "cell_type": "code",
   "execution_count": 122,
   "metadata": {
    "execution": {
     "iopub.execute_input": "2024-09-03T19:18:56.155320Z",
     "iopub.status.busy": "2024-09-03T19:18:56.154784Z",
     "iopub.status.idle": "2024-09-03T19:19:00.932504Z",
     "shell.execute_reply": "2024-09-03T19:19:00.931032Z",
     "shell.execute_reply.started": "2024-09-03T19:18:56.155264Z"
    },
    "trusted": true
   },
   "outputs": [
    {
     "data": {
      "image/png": "[encoded data removed]",
      "text/plain": [
       "<Figure size 1000x1000 with 20 Axes>"
      ]
     },
     "metadata": {},
     "output_type": "display_data"
    }
   ],
   "source": [
    "import seaborn as sns\n",
    "import matplotlib.pyplot as plt\n",
    "g = sns.PairGrid(data = train_data, vars=[\"Course Grade (Real)\", \"Assignment: In-class participation\", 'Assignment: Assignment 1', 'Assignment: Midterm'])\n",
    "g.map_diag(sns.histplot)\n",
    "g.map(sns.scatterplot)\n",
    "plt.show()"
   ]
  },
  {
   "cell_type": "markdown",
   "metadata": {},
   "source": [
    "## Preprocessing\n",
    "\n",
    "Please note that all the features have their own scales. Also some of them have missing values. Thus, you should apply Scaler and Imputer on the features and Scaler on labels."
   ]
  },
  {
   "cell_type": "code",
   "execution_count": 123,
   "metadata": {
    "execution": {
     "iopub.execute_input": "2024-09-03T19:19:00.934856Z",
     "iopub.status.busy": "2024-09-03T19:19:00.934263Z",
     "iopub.status.idle": "2024-09-03T19:19:00.948197Z",
     "shell.execute_reply": "2024-09-03T19:19:00.946573Z",
     "shell.execute_reply.started": "2024-09-03T19:19:00.934781Z"
    },
    "trusted": true
   },
   "outputs": [
    {
     "name": "stdout",
     "output_type": "stream",
     "text": [
      "<class 'pandas.core.series.Series'>\n",
      "Index: 242 entries, 0 to 243\n",
      "Series name: Course Grade (Real)\n",
      "Non-Null Count  Dtype  \n",
      "--------------  -----  \n",
      "242 non-null    float64\n",
      "dtypes: float64(1)\n",
      "memory usage: 3.8 KB\n"
     ]
    }
   ],
   "source": [
    "train_data['Course Grade (Real)'].info()"
   ]
  },
  {
   "cell_type": "code",
   "execution_count": 124,
   "metadata": {
    "execution": {
     "iopub.execute_input": "2024-09-03T19:19:00.950717Z",
     "iopub.status.busy": "2024-09-03T19:19:00.950235Z",
     "iopub.status.idle": "2024-09-03T19:19:00.962637Z",
     "shell.execute_reply": "2024-09-03T19:19:00.961103Z",
     "shell.execute_reply.started": "2024-09-03T19:19:00.950670Z"
    },
    "trusted": true
   },
   "outputs": [],
   "source": [
    "\n",
    "# imp.fit([[1, 2], [3, 6], [4, 8], [np.nan, 3], [7, np.nan]])\n",
    "# X_test = [[np.nan, 2], [6, np.nan], [np.nan, 6]]\n",
    "# # the model learns that the second feature is double the first\n",
    "# print(np.round(imp.transform(X_test)))"
   ]
  },
  {
   "cell_type": "code",
   "execution_count": 125,
   "metadata": {
    "execution": {
     "iopub.execute_input": "2024-09-03T19:19:00.969321Z",
     "iopub.status.busy": "2024-09-03T19:19:00.968307Z",
     "iopub.status.idle": "2024-09-03T19:19:00.990719Z",
     "shell.execute_reply": "2024-09-03T19:19:00.989023Z",
     "shell.execute_reply.started": "2024-09-03T19:19:00.969270Z"
    },
    "trusted": true
   },
   "outputs": [],
   "source": [
    "from sklearn.preprocessing import MinMaxScaler\n",
    "from sklearn.preprocessing import StandardScaler\n",
    "from sklearn.model_selection import train_test_split\n",
    "import numpy as np\n",
    "# from sklearn.experimental import enable_iterative_imputer\n",
    "from sklearn.impute import SimpleImputer\n",
    "# from sklearn.impute import IterativeImputer\n",
    "# imp = IterativeImputer(max_iter=10, random_state=0)\n",
    "\n",
    "y = train_data['Course Grade (Real)']\n",
    "y = np.array(y).reshape(-1, 1)\n",
    "# Write your code here\n",
    "label_scaler = MinMaxScaler()\n",
    "# imp = SimpleImputer(missing_values= np.nan, strategy='most_frequent')\n",
    "\n",
    "y = label_scaler.fit_transform(y)\n",
    "# y = imp.fit_transform(y)\n",
    "X = train_data.drop('Course Grade (Real)', axis=1)\n",
    "# Write your code here - do some preprocessing\n",
    "\n",
    "imp = SimpleImputer(missing_values= np.nan, strategy='constant', fill_value = 0.66)\n",
    "X = imp.fit_transform(X)\n",
    "scaler = MinMaxScaler()\n",
    "X = scaler.fit_transform(X)\n",
    "X_train, X_valid, y_train, y_valid = train_test_split(\n",
    "    X, y, test_size=0.05, random_state=42)"
   ]
  },
  {
   "cell_type": "code",
   "execution_count": 126,
   "metadata": {
    "execution": {
     "iopub.execute_input": "2024-09-03T19:19:00.993689Z",
     "iopub.status.busy": "2024-09-03T19:19:00.993165Z",
     "iopub.status.idle": "2024-09-03T19:19:01.018452Z",
     "shell.execute_reply": "2024-09-03T19:19:01.016589Z",
     "shell.execute_reply.started": "2024-09-03T19:19:00.993641Z"
    },
    "trusted": true
   },
   "outputs": [
    {
     "data": {
      "text/plain": [
       "0.0"
      ]
     },
     "execution_count": 126,
     "metadata": {},
     "output_type": "execute_result"
    }
   ],
   "source": [
    "X[:,2].min()"
   ]
  },
  {
   "cell_type": "markdown",
   "metadata": {},
   "source": [
    "### Model\n",
    "Implement any appropriate regression  ML model you like. Consider the number of features and data points when chose a model."
   ]
  },
  {
   "cell_type": "code",
   "execution_count": 127,
   "metadata": {
    "execution": {
     "iopub.execute_input": "2024-09-03T19:19:01.020627Z",
     "iopub.status.busy": "2024-09-03T19:19:01.020144Z",
     "iopub.status.idle": "2024-09-03T19:19:01.033230Z",
     "shell.execute_reply": "2024-09-03T19:19:01.031396Z",
     "shell.execute_reply.started": "2024-09-03T19:19:01.020560Z"
    },
    "trusted": true
   },
   "outputs": [],
   "source": [
    "# from sklearn.linear_model import LinearRegression\n",
    "\n",
    "# from sklearn.linear_model import RidgeCV\n",
    "# from sklearn.svm import LinearSVR\n",
    "# from sklearn.ensemble import RandomForestRegressor\n",
    "# from sklearn.ensemble import StackingRegressor\n",
    "# estimators = [\n",
    "#     ('Rc', RidgeCV()),\n",
    "# #     ('lr',LinearRegression()),\n",
    "#     ('svr', LinearSVR(random_state=42))\n",
    "# ]\n",
    "# reg = StackingRegressor(\n",
    "#     estimators=estimators,\n",
    "#     final_estimator=RandomForestRegressor(n_estimators=20,\n",
    "#                                           random_state=42)\n",
    "# )\n",
    "\n",
    "# reg.fit(X, y).score(X, y)"
   ]
  },
  {
   "cell_type": "code",
   "execution_count": 128,
   "metadata": {
    "execution": {
     "iopub.execute_input": "2024-09-03T19:19:01.036097Z",
     "iopub.status.busy": "2024-09-03T19:19:01.035473Z",
     "iopub.status.idle": "2024-09-03T19:19:01.048731Z",
     "shell.execute_reply": "2024-09-03T19:19:01.047008Z",
     "shell.execute_reply.started": "2024-09-03T19:19:01.036041Z"
    },
    "trusted": true
   },
   "outputs": [],
   "source": [
    "from scipy.stats import uniform\n",
    "distributions = dict(n_estimators=[i for i in range(25,220)])"
   ]
  },
  {
   "cell_type": "code",
   "execution_count": 129,
   "metadata": {
    "execution": {
     "iopub.execute_input": "2024-09-03T19:19:01.051509Z",
     "iopub.status.busy": "2024-09-03T19:19:01.051043Z",
     "iopub.status.idle": "2024-09-03T19:19:04.819831Z",
     "shell.execute_reply": "2024-09-03T19:19:04.818292Z",
     "shell.execute_reply.started": "2024-09-03T19:19:01.051434Z"
    },
    "trusted": true
   },
   "outputs": [
    {
     "name": "stdout",
     "output_type": "stream",
     "text": [
      "0.7957515805530248\n",
      "{'n_estimators': 43}\n"
     ]
    }
   ],
   "source": [
    "from sklearn.linear_model import LinearRegression\n",
    "from sklearn.metrics import r2_score\n",
    "from sklearn.preprocessing import PolynomialFeatures \n",
    "from lightgbm import LGBMRegressor\n",
    "from sklearn.model_selection import RandomizedSearchCV\n",
    "poly_features = PolynomialFeatures(degree=2) # decide the maximal degree of the polynomial feature\n",
    "X_ploy = poly_features.fit_transform(X)\n",
    "model = LinearRegression()\n",
    "model.fit(X_ploy, y)\n",
    "print(model.score(X_ploy, y))\n",
    "from xgboost import XGBRegressor\n",
    "from sklearn.ensemble import GradientBoostingRegressor\n",
    "my_model = XGBRegressor(n_estimators=200, learning_rate=0.1)\n",
    "my_model.fit(X_train, y_train, \n",
    "             early_stopping_rounds=10, \n",
    "             eval_set=[(X_valid, y_valid)], \n",
    "             verbose=False)\n",
    "from sklearn.metrics import r2_score\n",
    "est = GradientBoostingRegressor(learning_rate = 0.1)#.fit(X_train,y_train)\n",
    "srch = RandomizedSearchCV(est, distributions, random_state=0)\n",
    "srch.fit(X_train,y_train)\n",
    "print(srch.best_params_)\n",
    "# print(est.score(X_train,y_train))\n",
    "# predictions = est.predict(X_valid)\n",
    "# print(\"r2_score: \" + str(r2_score(predictions, y_valid)))"
   ]
  },
  {
   "cell_type": "code",
   "execution_count": 138,
   "metadata": {
    "execution": {
     "iopub.execute_input": "2024-09-03T19:19:10.176457Z",
     "iopub.status.busy": "2024-09-03T19:19:10.175976Z",
     "iopub.status.idle": "2024-09-03T19:19:10.253821Z",
     "shell.execute_reply": "2024-09-03T19:19:10.252295Z",
     "shell.execute_reply.started": "2024-09-03T19:19:10.176411Z"
    },
    "trusted": true
   },
   "outputs": [
    {
     "name": "stdout",
     "output_type": "stream",
     "text": [
      "      Iter       Train Loss   Remaining Time \n",
      "         1           0.0541            0.07s\n",
      "         2           0.0469            0.05s\n",
      "         3           0.0408            0.04s\n",
      "         4           0.0357            0.04s\n",
      "         5           0.0315            0.04s\n",
      "         6           0.0281            0.03s\n",
      "         7           0.0253            0.03s\n",
      "         8           0.0229            0.03s\n",
      "         9           0.0209            0.03s\n",
      "        10           0.0193            0.03s\n",
      "        20           0.0118            0.02s\n",
      "        30           0.0098            0.01s\n",
      "        40           0.0089            0.00s\n",
      "      Iter       Train Loss   Remaining Time \n",
      "         1           0.0551            0.03s\n",
      "         2           0.0475            0.03s\n",
      "         3           0.0413            0.03s\n",
      "         4           0.0361            0.03s\n",
      "         5           0.0319            0.03s\n",
      "         6           0.0284            0.03s\n",
      "         7           0.0256            0.03s\n",
      "         8           0.0232            0.03s\n",
      "         9           0.0212            0.02s\n",
      "        10           0.0195            0.02s\n",
      "        20           0.0119            0.02s\n",
      "        30           0.0098            0.01s\n",
      "        40           0.0089            0.00s\n",
      "0.8608373756137033\n",
      "r2_score: 0.8786993200624083\n"
     ]
    }
   ],
   "source": [
    "est = GradientBoostingRegressor(learning_rate = 0.1, n_estimators = 43, verbose = 1).fit(X_train,y_train)\n",
    "# model = LGBMRegressor(max_depth = 4, num_leaves = 15, n_estimators = 70, reg_alpha = 0.03)\n",
    "est.fit(X,y)\n",
    "print(est.score(X_train,y_train))\n",
    "predictions = est.predict(X_valid)\n",
    "print(\"r2_score: \" + str(r2_score(predictions, y_valid)))"
   ]
  },
  {
   "cell_type": "markdown",
   "metadata": {},
   "source": [
    "### Inference\n",
    "Run you trained model on `test` split\n"
   ]
  },
  {
   "cell_type": "code",
   "execution_count": 139,
   "metadata": {
    "execution": {
     "iopub.execute_input": "2024-09-03T19:19:11.340033Z",
     "iopub.status.busy": "2024-09-03T19:19:11.338712Z",
     "iopub.status.idle": "2024-09-03T19:19:11.358737Z",
     "shell.execute_reply": "2024-09-03T19:19:11.357266Z",
     "shell.execute_reply.started": "2024-09-03T19:19:11.339975Z"
    },
    "trusted": true
   },
   "outputs": [
    {
     "data": {
      "text/html": [
       "<div>\n",
       "<style scoped>\n",
       "    .dataframe tbody tr th:only-of-type {\n",
       "        vertical-align: middle;\n",
       "    }\n",
       "\n",
       "    .dataframe tbody tr th {\n",
       "        vertical-align: top;\n",
       "    }\n",
       "\n",
       "    .dataframe thead th {\n",
       "        text-align: right;\n",
       "    }\n",
       "</style>\n",
       "<table border=\"1\" class=\"dataframe\">\n",
       "  <thead>\n",
       "    <tr style=\"text-align: right;\">\n",
       "      <th></th>\n",
       "      <th>Assignment: In-class participation</th>\n",
       "      <th>Assignment: Assignment 1</th>\n",
       "      <th>Assignment: Midterm</th>\n",
       "    </tr>\n",
       "  </thead>\n",
       "  <tbody>\n",
       "    <tr>\n",
       "      <th>0</th>\n",
       "      <td>3</td>\n",
       "      <td>100.0</td>\n",
       "      <td>14</td>\n",
       "    </tr>\n",
       "    <tr>\n",
       "      <th>1</th>\n",
       "      <td>NaN</td>\n",
       "      <td>100.0</td>\n",
       "      <td>18</td>\n",
       "    </tr>\n",
       "    <tr>\n",
       "      <th>2</th>\n",
       "      <td>1</td>\n",
       "      <td>100.0</td>\n",
       "      <td>16</td>\n",
       "    </tr>\n",
       "    <tr>\n",
       "      <th>3</th>\n",
       "      <td>1</td>\n",
       "      <td>100.0</td>\n",
       "      <td>16</td>\n",
       "    </tr>\n",
       "    <tr>\n",
       "      <th>4</th>\n",
       "      <td>NaN</td>\n",
       "      <td>61.0</td>\n",
       "      <td>20</td>\n",
       "    </tr>\n",
       "  </tbody>\n",
       "</table>\n",
       "</div>"
      ],
      "text/plain": [
       "  Assignment: In-class participation  Assignment: Assignment 1  \\\n",
       "0                                  3                     100.0   \n",
       "1                                NaN                     100.0   \n",
       "2                                  1                     100.0   \n",
       "3                                  1                     100.0   \n",
       "4                                NaN                      61.0   \n",
       "\n",
       "   Assignment: Midterm  \n",
       "0                   14  \n",
       "1                   18  \n",
       "2                   16  \n",
       "3                   16  \n",
       "4                   20  "
      ]
     },
     "execution_count": 139,
     "metadata": {},
     "output_type": "execute_result"
    }
   ],
   "source": [
    "test_data = pd.read_csv('/kaggle/input/pmldl-week-1-test-regression-competition/test.csv', sep=';')\n",
    "test_data.replace('-', np.nan, inplace=True)\n",
    "test_data.head()\n"
   ]
  },
  {
   "cell_type": "code",
   "execution_count": 140,
   "metadata": {
    "execution": {
     "iopub.execute_input": "2024-09-03T19:19:11.925429Z",
     "iopub.status.busy": "2024-09-03T19:19:11.924975Z",
     "iopub.status.idle": "2024-09-03T19:19:11.942245Z",
     "shell.execute_reply": "2024-09-03T19:19:11.940850Z",
     "shell.execute_reply.started": "2024-09-03T19:19:11.925388Z"
    },
    "trusted": true
   },
   "outputs": [
    {
     "data": {
      "text/plain": [
       "array([[0.6       , 1.        , 0.5       ],\n",
       "       [0.132     , 1.        , 0.64285714],\n",
       "       [0.2       , 1.        , 0.57142857],\n",
       "       [0.2       , 1.        , 0.57142857],\n",
       "       [0.132     , 0.61      , 0.71428571],\n",
       "       [0.        , 0.7       , 0.64285714],\n",
       "       [0.084     , 1.        , 0.85714286],\n",
       "       [0.        , 0.92      , 0.78571429],\n",
       "       [1.        , 1.        , 1.        ],\n",
       "       [0.132     , 1.        , 0.92857143],\n",
       "       [0.132     , 0.89      , 0.42857143],\n",
       "       [0.132     , 0.735     , 0.        ],\n",
       "       [0.4       , 0.94      , 0.78571429],\n",
       "       [0.1       , 0.91      , 0.5       ],\n",
       "       [0.        , 0.        , 0.        ],\n",
       "       [0.132     , 0.99      , 0.78571429],\n",
       "       [0.132     , 0.85      , 0.78571429],\n",
       "       [0.9       , 1.        , 0.92857143],\n",
       "       [1.        , 1.        , 0.85714286],\n",
       "       [0.        , 0.86      , 0.64285714],\n",
       "       [0.132     , 0.63      , 0.78571429],\n",
       "       [0.9       , 0.74      , 0.42857143],\n",
       "       [0.084     , 1.        , 0.57142857],\n",
       "       [0.25      , 0.98      , 0.42857143],\n",
       "       [0.5       , 1.        , 1.        ],\n",
       "       [0.376     , 0.83      , 0.        ],\n",
       "       [0.        , 0.87      , 0.64285714],\n",
       "       [0.132     , 0.        , 0.        ],\n",
       "       [0.8       , 0.93      , 1.        ],\n",
       "       [1.        , 1.        , 0.85714286],\n",
       "       [0.2       , 0.33      , 0.57142857],\n",
       "       [0.2       , 0.73      , 0.64285714],\n",
       "       [0.132     , 0.97      , 0.85714286],\n",
       "       [0.        , 0.        , 0.5       ],\n",
       "       [0.826     , 0.99      , 0.92857143],\n",
       "       [0.02      , 0.975     , 0.85714286],\n",
       "       [0.284     , 0.96      , 0.85714286],\n",
       "       [0.376     , 1.        , 0.42857143],\n",
       "       [0.1       , 1.        , 0.57142857],\n",
       "       [0.2       , 0.7       , 0.5       ],\n",
       "       [0.        , 0.88      , 0.71428571],\n",
       "       [0.2       , 0.96      , 0.71428571],\n",
       "       [0.        , 0.93      , 0.57142857]])"
      ]
     },
     "execution_count": 140,
     "metadata": {},
     "output_type": "execute_result"
    }
   ],
   "source": [
    "from sklearn.preprocessing import StandardScaler\n",
    "\n",
    "\n",
    "\n",
    "X_test = test_data\n",
    "# Write your code here - do some preprocessing\n",
    "# from sklearn.impute import SimpleImputer\n",
    "imp = SimpleImputer(missing_values= np.nan, strategy='constant', fill_value = 0.66)\n",
    "X_test = imp.fit_transform(X_test)\n",
    "scaler = MinMaxScaler()\n",
    "X_test = scaler.fit_transform(X_test)\n",
    "X_test"
   ]
  },
  {
   "cell_type": "code",
   "execution_count": 141,
   "metadata": {
    "execution": {
     "iopub.execute_input": "2024-09-03T19:19:12.383820Z",
     "iopub.status.busy": "2024-09-03T19:19:12.383265Z",
     "iopub.status.idle": "2024-09-03T19:19:12.391377Z",
     "shell.execute_reply": "2024-09-03T19:19:12.389939Z",
     "shell.execute_reply.started": "2024-09-03T19:19:12.383716Z"
    },
    "trusted": true
   },
   "outputs": [],
   "source": [
    "# # Write your code here - don't forget to apply the same transformation on test data\n",
    "# preproc_test = ...\n",
    "# from sklearn.preprocessing import PolynomialFeatures \n",
    "# poly_features = PolynomialFeatures(degree=2) # decide the maximal degree of the polynomial feature\n",
    "# X_ploy_test = poly_features.fit_transform(X_test)\n",
    "# # predictions = model.predict(X_ploy_test)\n",
    "# predictions = my_model.predict(X_test)\n",
    "predictions = est.predict(X_test)"
   ]
  },
  {
   "cell_type": "code",
   "execution_count": 142,
   "metadata": {
    "execution": {
     "iopub.execute_input": "2024-09-03T19:19:12.573468Z",
     "iopub.status.busy": "2024-09-03T19:19:12.572435Z",
     "iopub.status.idle": "2024-09-03T19:19:12.581315Z",
     "shell.execute_reply": "2024-09-03T19:19:12.579569Z",
     "shell.execute_reply.started": "2024-09-03T19:19:12.573418Z"
    },
    "trusted": true
   },
   "outputs": [
    {
     "name": "stdout",
     "output_type": "stream",
     "text": [
      "43\n"
     ]
    }
   ],
   "source": [
    "print(len(X_test))"
   ]
  },
  {
   "cell_type": "code",
   "execution_count": 143,
   "metadata": {
    "execution": {
     "iopub.execute_input": "2024-09-03T19:19:12.957081Z",
     "iopub.status.busy": "2024-09-03T19:19:12.956624Z",
     "iopub.status.idle": "2024-09-03T19:19:12.967723Z",
     "shell.execute_reply": "2024-09-03T19:19:12.966504Z",
     "shell.execute_reply.started": "2024-09-03T19:19:12.957038Z"
    },
    "trusted": true
   },
   "outputs": [
    {
     "data": {
      "text/plain": [
       "array([[0.73271664],\n",
       "       [0.79821343],\n",
       "       [0.80404549],\n",
       "       [0.80404549],\n",
       "       [0.52601563],\n",
       "       [0.64338686],\n",
       "       [0.8664896 ],\n",
       "       [0.70124852],\n",
       "       [0.97546635],\n",
       "       [0.83193307],\n",
       "       [0.63590173],\n",
       "       [0.4012997 ],\n",
       "       [0.8072623 ],\n",
       "       [0.68276749],\n",
       "       [0.01294854],\n",
       "       [0.81912932],\n",
       "       [0.70916084],\n",
       "       [0.94234504],\n",
       "       [0.97546635],\n",
       "       [0.68046467],\n",
       "       [0.62651137],\n",
       "       [0.74459089],\n",
       "       [0.77657798],\n",
       "       [0.70574331],\n",
       "       [0.88864686],\n",
       "       [0.4318924 ],\n",
       "       [0.67785098],\n",
       "       [0.01689615],\n",
       "       [0.92406412],\n",
       "       [0.97546635],\n",
       "       [0.31680724],\n",
       "       [0.7190598 ],\n",
       "       [0.75305839],\n",
       "       [0.1979537 ],\n",
       "       [0.93701361],\n",
       "       [0.71699658],\n",
       "       [0.7908243 ],\n",
       "       [0.70748766],\n",
       "       [0.77657798],\n",
       "       [0.64895578],\n",
       "       [0.69991836],\n",
       "       [0.78559787],\n",
       "       [0.65140998]])"
      ]
     },
     "execution_count": 143,
     "metadata": {},
     "output_type": "execute_result"
    }
   ],
   "source": [
    "predictions.reshape(-1, 1)"
   ]
  },
  {
   "cell_type": "markdown",
   "metadata": {},
   "source": [
    "### Save model predictions\n",
    "Save model predictions to `submission.csv` and submit to competition"
   ]
  },
  {
   "cell_type": "code",
   "execution_count": 144,
   "metadata": {
    "execution": {
     "iopub.execute_input": "2024-09-03T19:19:13.944313Z",
     "iopub.status.busy": "2024-09-03T19:19:13.943852Z",
     "iopub.status.idle": "2024-09-03T19:19:13.964563Z",
     "shell.execute_reply": "2024-09-03T19:19:13.962925Z",
     "shell.execute_reply.started": "2024-09-03T19:19:13.944270Z"
    },
    "trusted": true
   },
   "outputs": [
    {
     "data": {
      "text/html": [
       "<div>\n",
       "<style scoped>\n",
       "    .dataframe tbody tr th:only-of-type {\n",
       "        vertical-align: middle;\n",
       "    }\n",
       "\n",
       "    .dataframe tbody tr th {\n",
       "        vertical-align: top;\n",
       "    }\n",
       "\n",
       "    .dataframe thead th {\n",
       "        text-align: right;\n",
       "    }\n",
       "</style>\n",
       "<table border=\"1\" class=\"dataframe\">\n",
       "  <thead>\n",
       "    <tr style=\"text-align: right;\">\n",
       "      <th></th>\n",
       "      <th>ID</th>\n",
       "      <th>Course Grade (Real)</th>\n",
       "    </tr>\n",
       "  </thead>\n",
       "  <tbody>\n",
       "    <tr>\n",
       "      <th>0</th>\n",
       "      <td>0</td>\n",
       "      <td>73</td>\n",
       "    </tr>\n",
       "    <tr>\n",
       "      <th>1</th>\n",
       "      <td>1</td>\n",
       "      <td>79</td>\n",
       "    </tr>\n",
       "    <tr>\n",
       "      <th>2</th>\n",
       "      <td>2</td>\n",
       "      <td>80</td>\n",
       "    </tr>\n",
       "    <tr>\n",
       "      <th>3</th>\n",
       "      <td>3</td>\n",
       "      <td>80</td>\n",
       "    </tr>\n",
       "    <tr>\n",
       "      <th>4</th>\n",
       "      <td>4</td>\n",
       "      <td>52</td>\n",
       "    </tr>\n",
       "    <tr>\n",
       "      <th>5</th>\n",
       "      <td>5</td>\n",
       "      <td>64</td>\n",
       "    </tr>\n",
       "    <tr>\n",
       "      <th>6</th>\n",
       "      <td>6</td>\n",
       "      <td>86</td>\n",
       "    </tr>\n",
       "    <tr>\n",
       "      <th>7</th>\n",
       "      <td>7</td>\n",
       "      <td>70</td>\n",
       "    </tr>\n",
       "    <tr>\n",
       "      <th>8</th>\n",
       "      <td>8</td>\n",
       "      <td>97</td>\n",
       "    </tr>\n",
       "    <tr>\n",
       "      <th>9</th>\n",
       "      <td>9</td>\n",
       "      <td>83</td>\n",
       "    </tr>\n",
       "  </tbody>\n",
       "</table>\n",
       "</div>"
      ],
      "text/plain": [
       "   ID  Course Grade (Real)\n",
       "0   0                   73\n",
       "1   1                   79\n",
       "2   2                   80\n",
       "3   3                   80\n",
       "4   4                   52\n",
       "5   5                   64\n",
       "6   6                   86\n",
       "7   7                   70\n",
       "8   8                   97\n",
       "9   9                   83"
      ]
     },
     "execution_count": 144,
     "metadata": {},
     "output_type": "execute_result"
    }
   ],
   "source": [
    "preds = pd.DataFrame(label_scaler.inverse_transform(predictions.reshape(-1, 1)).astype(int), columns=['Course Grade (Real)'])\n",
    "# Insert ID column for Kaggle\n",
    "preds.insert(0, 'ID', range(0, len(preds)))\n",
    "\n",
    "preds.head(10)"
   ]
  },
  {
   "cell_type": "code",
   "execution_count": 145,
   "metadata": {
    "execution": {
     "iopub.execute_input": "2024-09-03T19:19:14.396335Z",
     "iopub.status.busy": "2024-09-03T19:19:14.395868Z",
     "iopub.status.idle": "2024-09-03T19:19:14.404736Z",
     "shell.execute_reply": "2024-09-03T19:19:14.403056Z",
     "shell.execute_reply.started": "2024-09-03T19:19:14.396292Z"
    },
    "trusted": true
   },
   "outputs": [],
   "source": [
    "preds.to_csv('submission.csv', index=None)"
   ]
  },
  {
   "cell_type": "code",
   "execution_count": null,
   "metadata": {},
   "outputs": [],
   "source": []
  },
  {
   "cell_type": "code",
   "execution_count": null,
   "metadata": {},
   "outputs": [],
   "source": []
  }
 ],
 "metadata": {
  "kaggle": {
   "accelerator": "none",
   "dataSources": [
    {
     "databundleVersionId": 9460212,
     "sourceId": 84460,
     "sourceType": "competition"
    }
   ],
   "dockerImageVersionId": 30761,
   "isGpuEnabled": false,
   "isInternetEnabled": true,
   "language": "python",
   "sourceType": "notebook"
  },
  "kernelspec": {
   "display_name": "Python 3",
   "language": "python",
   "name": "python3"
  },
  "language_info": {
   "codemirror_mode": {
    "name": "ipython",
    "version": 3
   },
   "file_extension": ".py",
   "mimetype": "text/x-python",
   "name": "python",
   "nbconvert_exporter": "python",
   "pygments_lexer": "ipython3",
   "version": "3.10.14"
  }
 },
 "nbformat": 4,
 "nbformat_minor": 4
}
